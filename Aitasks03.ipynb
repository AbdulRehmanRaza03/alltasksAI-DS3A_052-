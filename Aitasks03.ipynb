{
 "cells": [
  {
   "cell_type": "code",
   "execution_count": 5,
   "id": "7190ce91",
   "metadata": {},
   "outputs": [
    {
     "name": "stdout",
     "output_type": "stream",
     "text": [
      "Living Room -> 22'C => Action  Turn OFF AC\n",
      "Bedroom -> 25'C => Action  Turn OFF AC\n",
      "Kitchen -> 30'C => Action  Turn ON AC\n",
      "Bathroom -> 20'C => Action  Turn OFF AC\n",
      "Dining Room -> 18'C => Action  Turn OFF AC\n",
      "Study Room -> 27'C => Action  Turn ON AC\n",
      "Guest Room -> 24'C => Action  Turn OFF AC\n",
      "Office -> 29'C => Action  Turn ON AC\n",
      "Garage -> 27'C => Action  Turn ON AC\n",
      "Basement -> 88'C => Action  Turn ON AC\n"
     ]
    }
   ],
   "source": [
    "class SimpleReflexAgent:\n",
    "    def __init__(self, temp):\n",
    "        self.fixed_temp = temp \n",
    "        self.path = \"history.txt\"\n",
    "\n",
    "    def store_memory(self, string):\n",
    "        with open(self.path, \"a\") as file:\n",
    "            file.write(string + \"\\n\")\n",
    "\n",
    "    def retrive_memory(self):\n",
    "        with open(self.path, \"r\") as file:\n",
    "            content = file.readlines()\n",
    "        return content\n",
    "\n",
    "    def sensor(self, current_temp):\n",
    "        self.current_temp = current_temp\n",
    "\n",
    "    def performance(self):\n",
    "        if self.current_temp > self.fixed_temp:\n",
    "            string = f\"{self.current_temp}, Turn ON AC\"\n",
    "            self.store_memory(string)\n",
    "            return \"Turn ON AC\"\n",
    "        else:\n",
    "            string = f\"{self.current_temp}, Turn OFF AC\"\n",
    "            self.store_memory(string)\n",
    "            return \"Turn OFF AC\"\n",
    "\n",
    "    def actuator(self):\n",
    "        memory = self.retrive_memory()\n",
    "        temps = [int(line.split(\",\")[0]) for line in memory]\n",
    "        if self.current_temp in temps:\n",
    "            action = memory[temps.index(self.current_temp)].split(',')[1].strip()\n",
    "            print(f\"{self.current_temp}'C => Action  {action}\")\n",
    "        else:\n",
    "            print(f\"{self.current_temp}'C => Action  {self.performance()}\")\n",
    "\n",
    "\n",
    "roomss = {\n",
    "    \"Living Room\": 22,\n",
    "    \"Bedroom\": 25,\n",
    "    \"Kitchen\": 30,\n",
    "    \"Bathroom\": 20,\n",
    "    \"Dining Room\": 18,\n",
    "    \"Study Room\": 27,\n",
    "    \"Guest Room\": 24,\n",
    "    \"Office\": 29,\n",
    "    \"Garage\": 27,\n",
    "    \"Basement\": 88\n",
    "}\n",
    "\n",
    "for room, temp in roomss.items():\n",
    "    print(room, \"-> \", end=\"\")\n",
    "    agent = SimpleReflexAgent(25)\n",
    "    agent.sensor(temp)\n",
    "    agent.actuator()\n"
   ]
  }
 ],
 "metadata": {
  "kernelspec": {
   "display_name": "Python 3",
   "language": "python",
   "name": "python3"
  },
  "language_info": {
   "codemirror_mode": {
    "name": "ipython",
    "version": 3
   },
   "file_extension": ".py",
   "mimetype": "text/x-python",
   "name": "python",
   "nbconvert_exporter": "python",
   "pygments_lexer": "ipython3",
   "version": "3.12.10"
  }
 },
 "nbformat": 4,
 "nbformat_minor": 5
}
