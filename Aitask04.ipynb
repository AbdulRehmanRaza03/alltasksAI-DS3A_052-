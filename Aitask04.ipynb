{
 "cells": [
  {
   "cell_type": "code",
   "execution_count": 9,
   "id": "2535c48e",
   "metadata": {},
   "outputs": [
    {
     "name": "stdout",
     "output_type": "stream",
     "text": [
      "b i n g o d i n g o b i n g o d i n g o "
     ]
    }
   ],
   "source": [
    "string = \"bingo dingo bingo dingo , ! , @ , # , $ , % , ^ , & , * , ( , ) , _ , - , + , = , { , } , [ , ] , | , \\\\ , : , ; , ' , \\\" , < , > , , , . , ? , /\"\n",
    "\n",
    "for char in string:\n",
    "    if char.isalpha():\n",
    "        print(char, end=\" \")\n"
   ]
  },
  {
   "cell_type": "code",
   "execution_count": 10,
   "id": "9c83e9c7",
   "metadata": {},
   "outputs": [
    {
     "name": "stdout",
     "output_type": "stream",
     "text": [
      "Sorted string is:    Iaademnsttu\n",
      "Sorted words are: I a am student\n"
     ]
    }
   ],
   "source": [
    "s = \"I am a student\"\n",
    "chars = list(s)\n",
    "\n",
    "for i in range(len(chars)):\n",
    "    for j in range(len(chars) - i - 1):\n",
    "        if chars[j] > chars[j + 1]:\n",
    "            chars[j], chars[j + 1] = chars[j + 1], chars[j]\n",
    "\n",
    "sorted_str = \"\".join(chars)\n",
    "print(\"Sorted string is:\", sorted_str)\n",
    "\n",
    "words = s.split()\n",
    "for i in range(len(words)):\n",
    "    for j in range(len(words) - i - 1):\n",
    "        if words[j] > words[j + 1]:\n",
    "            words[j], words[j + 1] = words[j + 1], words[j]\n",
    "sorted_words = \" \".join(words)\n",
    "print(\"Sorted words are:\", sorted_words)"
   ]
  },
  {
   "cell_type": "code",
   "execution_count": 11,
   "id": "ec2e2aa5",
   "metadata": {},
   "outputs": [
    {
     "name": "stdout",
     "output_type": "stream",
     "text": [
      "5893804115457289 is a valid number \n"
     ]
    }
   ],
   "source": [
    "def luhn_check(number):\n",
    "    number = str(number)\n",
    "    total = 0\n",
    "    reverse_digits = number[::-1]\n",
    "\n",
    "    for i, digit in enumerate(reverse_digits):\n",
    "        n = int(digit)\n",
    "        if i % 2 == 1:  \n",
    "            n *= 2\n",
    "            if n > 9:\n",
    "                n -= 9\n",
    "        total += n\n",
    "\n",
    "    return total % 10 == 0\n",
    "\n",
    "\n",
    "num = \"5893804115457289\"\n",
    "if luhn_check(num):\n",
    "    print(f\"{num} is a valid number \")\n",
    "else:\n",
    "    print(f\"{num} is not a valid number \")"
   ]
  }
 ],
 "metadata": {
  "kernelspec": {
   "display_name": "Python 3",
   "language": "python",
   "name": "python3"
  },
  "language_info": {
   "codemirror_mode": {
    "name": "ipython",
    "version": 3
   },
   "file_extension": ".py",
   "mimetype": "text/x-python",
   "name": "python",
   "nbconvert_exporter": "python",
   "pygments_lexer": "ipython3",
   "version": "3.12.10"
  }
 },
 "nbformat": 4,
 "nbformat_minor": 5
}
