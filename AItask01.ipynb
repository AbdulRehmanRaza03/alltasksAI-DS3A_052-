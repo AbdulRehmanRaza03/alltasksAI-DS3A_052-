{
 "cells": [
  {
   "cell_type": "markdown",
   "id": "aee14842",
   "metadata": {},
   "source": [
    "### Lab Task 01 :"
   ]
  },
  {
   "cell_type": "code",
   "execution_count": 3,
   "id": "c6dee4af",
   "metadata": {},
   "outputs": [
    {
     "name": "stdout",
     "output_type": "stream",
     "text": [
      "( Welcome to My To_Do_List Maker )\n",
      "\n",
      "Your tasks are : ['study', 'play', 'coding', 'rest', 'sleep']\n",
      "Total tasks are \"['study', 'play', 'coding', 'rest', 'sleep']\"\n",
      "You exit the project and your To_Do_List is\n",
      "\"['study', 'play', 'coding', 'rest', 'sleep']\" .\n"
     ]
    }
   ],
   "source": [
    "def task():\n",
    "    tasks = [] #empty list\n",
    "    print('''( Welcome to My To_Do_List Maker )''')\n",
    "\n",
    "    Total_Tasks = int(input('''How much tasks you want to add :'''))\n",
    "    for i in range(1 , Total_Tasks+1):\n",
    "        task_name = input(f\"Enter task {i} = \")\n",
    "        tasks.append(task_name)\n",
    "\n",
    "    print(f'''\\nYour tasks are : {tasks}''') \n",
    "\n",
    "    while True :\n",
    "        operation = int(input('''\\nEnter 1 for add new task .\\nEnter 2 for update .\\nEnter 3 for view.\\nEnter 4 for Delete .\\nEnter 5 for Exit .\\nEnter your 1 to 5 number for next operation : '''))\n",
    "         \n",
    "        if operation == 1 :\n",
    "            add = input('''Enter task you want to add = ''')\n",
    "            tasks.append(add)\n",
    "            print(f'''Your task \"{add}\" has been sucessfully added ! ''') \n",
    "\n",
    "        elif operation == 2 :\n",
    "            print(f'''These are yours previous tasks {tasks}''')\n",
    "            updated_value = input('''Enter the task name you want to update : ''')\n",
    "            \n",
    "            if updated_value in tasks :\n",
    "                new = input('''Enter Your updated task: ''')  \n",
    "                pak = tasks.index(updated_value)\n",
    "                tasks[pak] = new\n",
    "                print(f\"Your updated_task is : '{new}'\")\n",
    "            \n",
    "            \n",
    "        elif operation == 4 :\n",
    "            del_val = input('''Which task you want to delete : ''')\n",
    "            if del_val in tasks:\n",
    "                ind = tasks.index(del_val)\n",
    "                del tasks[ind]\n",
    "                print(f'''Task  ''{del_val} '' has been deleted..''')\n",
    "            \n",
    "\n",
    "        elif operation == 3 :\n",
    "            print(f'''Total tasks are \"{tasks}\"''')\n",
    "\n",
    "        elif operation == 5 :\n",
    "            print(f'''You exit the project and your To_Do_List is\\n\"{tasks}\" .''')\n",
    "            break\n",
    "        else :\n",
    "            print(\"Your input is invalid corret it .\")\n",
    "task()"
   ]
  }
 ],
 "metadata": {
  "kernelspec": {
   "display_name": "Python 3",
   "language": "python",
   "name": "python3"
  },
  "language_info": {
   "codemirror_mode": {
    "name": "ipython",
    "version": 3
   },
   "file_extension": ".py",
   "mimetype": "text/x-python",
   "name": "python",
   "nbconvert_exporter": "python",
   "pygments_lexer": "ipython3",
   "version": "3.12.10"
  }
 },
 "nbformat": 4,
 "nbformat_minor": 5
}
