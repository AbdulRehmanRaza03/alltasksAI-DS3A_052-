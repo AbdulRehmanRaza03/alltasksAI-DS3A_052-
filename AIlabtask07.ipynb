{
 "cells": [
  {
   "cell_type": "markdown",
   "id": "867fb353",
   "metadata": {},
   "source": [
    "#### AI Lab Task 07 ..."
   ]
  },
  {
   "cell_type": "code",
   "execution_count": 2,
   "id": "ce0eb931",
   "metadata": {},
   "outputs": [
    {
     "name": "stdout",
     "output_type": "stream",
     "text": [
      "Path found: ['A', 'C', 'F', 'I']\n"
     ]
    },
    {
     "data": {
      "text/plain": [
       "['A', 'C', 'F', 'I']"
      ]
     },
     "execution_count": 2,
     "metadata": {},
     "output_type": "execute_result"
    }
   ],
   "source": [
    "class abd:\n",
    "    def __init__(self, gxa):\n",
    "        self.gxa = gxa\n",
    "\n",
    "    def next_nodes(self, spido):\n",
    "        return self.gxa.get(spido, [])\n",
    "\n",
    "    def calc_h(self, spido):\n",
    "        h_map = {\n",
    "            'A': 10, 'B': 8, 'C': 5, 'D': 7,\n",
    "            'E': 3, 'F': 6, 'G': 5, 'H': 3, 'I': 1\n",
    "        }\n",
    "        return h_map[spido]\n",
    "\n",
    "    def run_astar(self, begin, target):\n",
    "        open_nodes = {begin: self.calc_h(begin)}\n",
    "        closed_nodes = {}\n",
    "        g_val = {begin: 0}\n",
    "        parent = {begin: begin}\n",
    "\n",
    "        while open_nodes:\n",
    "            current = min(open_nodes, key=open_nodes.get)\n",
    "\n",
    "            if current == target or not self.next_nodes(current):\n",
    "                pass\n",
    "            else:\n",
    "                for (spido, cost) in self.next_nodes(current):\n",
    "                    total_g = g_val[current] + cost\n",
    "                    if spido not in open_nodes and spido not in closed_nodes:\n",
    "                        g_val[spido] = total_g\n",
    "                        open_nodes[spido] = total_g + self.calc_h(spido)\n",
    "                        parent[spido] = current\n",
    "                    elif total_g < g_val.get(spido, float('inf')):\n",
    "                        g_val[spido] = total_g\n",
    "                        parent[spido] = current\n",
    "                        if spido in closed_nodes:\n",
    "                            closed_nodes.pop(spido)\n",
    "                            open_nodes[spido] = total_g + self.calc_h(spido)\n",
    "\n",
    "            if current == target:\n",
    "                path = []\n",
    "                while parent[current] != current:\n",
    "                    path.append(current)\n",
    "                    current = parent[current]\n",
    "                path.append(begin)\n",
    "                path.reverse()\n",
    "                print(\"Path found:\", path)\n",
    "                return path\n",
    "\n",
    "            closed_nodes[current] = True\n",
    "            open_nodes.pop(current)\n",
    "\n",
    "            for n in open_nodes:\n",
    "                open_nodes[n] = g_val[n] + self.calc_h(n)\n",
    "\n",
    "        print(\"Path not found\")\n",
    "        return None\n",
    "\n",
    "\n",
    "gxa = {\n",
    "    'A': [('B', 1), ('C', 4)],\n",
    "    'B': [('A', 1), ('D', 2), ('E', 5)],\n",
    "    'C': [('A', 4), ('F', 1)],\n",
    "    'D': [('B', 2), ('G', 1)],\n",
    "    'E': [('B', 5), ('H', 3)],\n",
    "    'F': [('C', 1), ('I', 2)],\n",
    "    'G': [('D', 1)],\n",
    "    'H': [('E', 3)],\n",
    "    'I': [('F', 2)],\n",
    "}\n",
    "\n",
    "finder = abd(gxa)\n",
    "finder.run_astar('A', 'I')\n"
   ]
  }
 ],
 "metadata": {
  "kernelspec": {
   "display_name": "Python 3",
   "language": "python",
   "name": "python3"
  },
  "language_info": {
   "codemirror_mode": {
    "name": "ipython",
    "version": 3
   },
   "file_extension": ".py",
   "mimetype": "text/x-python",
   "name": "python",
   "nbconvert_exporter": "python",
   "pygments_lexer": "ipython3",
   "version": "3.12.10"
  }
 },
 "nbformat": 4,
 "nbformat_minor": 5
}
